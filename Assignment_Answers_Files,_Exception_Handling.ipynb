{
  "nbformat": 4,
  "nbformat_minor": 0,
  "metadata": {
    "colab": {
      "provenance": []
    },
    "kernelspec": {
      "name": "python3",
      "display_name": "Python 3"
    },
    "language_info": {
      "name": "python"
    }
  },
  "cells": [
    {
      "cell_type": "markdown",
      "source": [
        "---\n",
        "---\n",
        "**📝 Assignment Answers: Files, Exception Handling, Logging & Memory Management (Python)**\n",
        "---\n",
        "---\n",
        "\n",
        "1.What is the difference between interpreted and compiled languages?\n",
        "\n",
        "-Interpreted language (like Python): Code is executed line-by-line at runtime. Slower but easier to debug.\n",
        "\n",
        "-Compiled language (like C++): Entire code is translated into machine code before running. Faster execution but harder to debug.\n",
        "\n",
        "---\n",
        "2.What is Exception Handling in Python?\n",
        "\n",
        "-Exception handling helps to manage errors in the program without crashing it. It uses keywords like try, except, and finally to catch and handle errors safely.\n",
        "\n",
        "---\n",
        "\n",
        "3.What is the purpose of the finally block in exception handling?\n",
        "\n",
        "-The finally block always runs, whether or not an error happened. It’s useful for cleanup, like closing a file or releasing resources.\n",
        "\n",
        "---\n",
        "\n",
        "4.What is logging in Python?\n",
        "\n",
        "-Logging is a way to record events that happen while the program runs. Useful for debugging and tracking issues.\n",
        "\n",
        "---\n",
        "\n",
        "5.What is the significance of the __del__ method in Python?\n",
        "\n",
        "-The __del__ method is called when an object is deleted. It helps clean up resources, like closing a file or database connection.\n",
        "\n",
        "---\n",
        "6.What is the difference between import and from ... import in Python?\n",
        "\n",
        "-import math: You use math.sqrt(9)\n",
        "-from math import sqrt: You use sqrt(9) directly\n",
        "\n",
        "---\n",
        "7.How can you handle multiple exceptions in Python?\n",
        "\n",
        "-Use multiple except blocks for each error type or combine them using parentheses:\n"
      ],
      "metadata": {
        "id": "2sUwcz9pvjJP"
      }
    },
    {
      "cell_type": "code",
      "source": [
        "try:\n",
        "    ...\n",
        "except (TypeError, ValueError):\n",
        "    print(\"Caught an error\")\n"
      ],
      "metadata": {
        "id": "4wej_PFpw_5k"
      },
      "execution_count": 1,
      "outputs": []
    },
    {
      "cell_type": "markdown",
      "source": [
        "---\n",
        "8.What is the purpose of the with statement when handling files in Python?\n",
        "\n",
        "-It’s used for automatic file closing. No need to manually call file.close():"
      ],
      "metadata": {
        "id": "oBws3Yt1xE_M"
      }
    },
    {
      "cell_type": "code",
      "source": [
        "with open('file.txt', 'r') as file:\n",
        "    data = file.read()\n"
      ],
      "metadata": {
        "collapsed": true,
        "id": "lGRBRut4xOJ2"
      },
      "execution_count": null,
      "outputs": []
    },
    {
      "cell_type": "markdown",
      "source": [
        "---\n",
        "9.What is the difference between multithreading and multiprocessing?\n",
        "\n",
        "-Multithreading: Runs multiple tasks within one process (good for I/O tasks).\n",
        "\n",
        "-Multiprocessing: Runs multiple processes (good for CPU-heavy tasks).\n",
        "\n",
        "---\n",
        "\n",
        "10.What are the advantages of using logging in a program?\n",
        "\n",
        "**Advantages of Using Logging**\n",
        "-Keeps record of what happened\n",
        "-Helps in debugging\n",
        "-Can separate info, warning, and error messages\n",
        "\n",
        "---\n",
        "\n",
        "11.What is memory management in Python?\n",
        "\n",
        "-It’s how Python handles allocating and freeing memory. It includes garbage collection to remove unused objects.\n",
        "\n",
        "---\n",
        "12.What are the basic steps involved in exception handling in Python?\n",
        "\n",
        "**Basic Steps in Exception Handling**\n",
        "\n",
        "-try: Run risky code\n",
        "-except: Handle the error\n",
        "-finally (optional): Clean up\n",
        "-else (optional): Runs if no error occurred\n",
        "\n",
        "---\n",
        "13.Why is memory management important in Python?\n",
        "\n",
        "-**Efficient memory usage ensures the program:**\n",
        "-Runs smoothly\n",
        "-Doesn’t slow down or crash\n",
        "-Doesn’t waste memory\n",
        "\n",
        "---\n",
        "14.What is the role of try and except in exception handling?\n",
        "\n",
        "-They help catch and respond to errors, preventing crashes and allowing the program to continue running.\n",
        "\n",
        "---\n",
        "15.How does Python's garbage collection system work?\n",
        "\n",
        "-Python automatically cleans up unused objects in memory using a technique called reference counting and cyclic garbage collection.\n",
        "\n",
        "---\n",
        "\n",
        "16.What is the purpose of the else block in exception handling?\n",
        "\n",
        "-Runs only if no exception occurs inside the try block.\n",
        "\n",
        "---\n",
        "\n",
        "17.What are the common logging levels in Python?\n",
        "\n",
        "-**Common Logging Levels**\n",
        "\n",
        "-DEBUG: For detailed debugging\n",
        "\n",
        "-INFO: General information\n",
        "\n",
        "-WARNING: Something might be wrong\n",
        "\n",
        "-ERROR: A definite problem\n",
        "\n",
        "-CRITICAL: Serious problem\n",
        "\n",
        "---\n",
        "18.What is the difference between os.fork() and multiprocessing in Python?\n",
        "\n",
        "-**Difference: os.fork() vs. multiprocessing**\n",
        "\n",
        "-os.fork() is used in Unix-like systems to create a child process.\n",
        "\n",
        "-multiprocessing works across platforms and provides a cleaner interface.\n",
        "\n",
        "\n",
        "\n",
        "\n",
        "\n",
        "\n",
        "\n",
        "\n",
        "\n"
      ],
      "metadata": {
        "id": "HpUxUMs0xbAP"
      }
    },
    {
      "cell_type": "markdown",
      "source": [
        "---\n",
        "19.What is the importance of closing a file in Python?\n",
        "\n",
        "-To save changes and free up resources like memory or file handles.\n",
        "\n",
        "---\n",
        "\n",
        "20.What is the difference between file.read() and file.readline() in Python?\n",
        "\n",
        "-**Difference: file.read() vs. file.readline()**\n",
        "\n",
        "-read(): Reads the whole file\n",
        "\n",
        "-readline(): Reads one line at a time\n",
        "\n",
        "---\n",
        "21.What is the logging module in Python used for?\n",
        "\n",
        "-To track and record messages like errors or events to console or files for later analysis.\n",
        "\n",
        "---\n",
        "22.What is the os module in Python used for in file handling?\n",
        "\n",
        "-Provides functions to interact with the operating system, like checking if a file exists or removing files.\n",
        "\n",
        "---\n",
        "\n",
        "23.What are the challenges associated with memory management in Python?\n",
        "\n",
        "-**Challenges in Memory Management**\n",
        "\n",
        "-Dealing with circular references\n",
        "\n",
        "-Memory leaks if objects are not released properly\n",
        "\n",
        "-High memory usage in large programs\n",
        "\n",
        "---\n",
        "24.How do you raise an exception manually in Python?\n",
        "\n",
        "-**Raising Exception Manually**\n",
        "\n",
        "-You can use the raise keyword:\n",
        "\n",
        "\n",
        "\n",
        "\n"
      ],
      "metadata": {
        "id": "3lQw-_UizeGn"
      }
    },
    {
      "cell_type": "code",
      "source": [
        "raise ValueError(\"Invalid input\")\n"
      ],
      "metadata": {
        "id": "FiBkxRaX0Z_s"
      },
      "execution_count": null,
      "outputs": []
    },
    {
      "cell_type": "markdown",
      "source": [
        "25.Why is it important to use multithreading in certain applications?\n",
        "\n",
        "-**Importance of Multithreading**\n",
        "\n",
        "-Improves performance for I/O-heavy tasks (like reading files or web requests)\n",
        "\n",
        "-Makes programs faster and more efficient.\n"
      ],
      "metadata": {
        "id": "MP51xHgD0cdb"
      }
    },
    {
      "cell_type": "markdown",
      "source": [
        "---\n",
        "---\n",
        "\n",
        "**🧪 Practical Questions – Python Programs**\n",
        "---\n",
        "---"
      ],
      "metadata": {
        "id": "4WrfJWQA0yqn"
      }
    },
    {
      "cell_type": "markdown",
      "source": [
        "1.How can you open a file for writing in Python and write a string to it?\n"
      ],
      "metadata": {
        "id": "kmVzY1jL1ENv"
      }
    },
    {
      "cell_type": "code",
      "source": [
        "with open(\"output.txt\", \"w\") as file:\n",
        "    file.write(\"Hello, this is a test message.\")\n"
      ],
      "metadata": {
        "id": "dE4ryyHF1LQx"
      },
      "execution_count": null,
      "outputs": []
    },
    {
      "cell_type": "markdown",
      "source": [
        "-\"w\" means write mode (creates the file if it doesn’t exist).\n",
        "\n",
        "-with automatically closes the file after writing."
      ],
      "metadata": {
        "id": "nwNWR-gB1N1B"
      }
    },
    {
      "cell_type": "markdown",
      "source": [
        "---\n",
        "\n",
        "2.Write a Python program to read the contents of a file and print each line?"
      ],
      "metadata": {
        "id": "EuPGhbWN1TS0"
      }
    },
    {
      "cell_type": "code",
      "source": [
        "with open(\"file.txt\", \"r\") as file:\n",
        "    for line in file:\n",
        "        print(line.strip())\n"
      ],
      "metadata": {
        "id": "Qf1tEby11apj"
      },
      "execution_count": null,
      "outputs": []
    },
    {
      "cell_type": "markdown",
      "source": [
        "-strip() removes any extra spaces or newlines."
      ],
      "metadata": {
        "id": "9QJmuayd1bdc"
      }
    },
    {
      "cell_type": "markdown",
      "source": [
        "---\n",
        "\n",
        "3.How would you handle a case where the file doesn't exist while trying to open it for reading?\n",
        "\n"
      ],
      "metadata": {
        "id": "ojL1_bxh1d7s"
      }
    },
    {
      "cell_type": "code",
      "source": [
        "try:\n",
        "    with open(\"missing_file.txt\", \"r\") as file:\n",
        "        data = file.read()\n",
        "except FileNotFoundError:\n",
        "    print(\"File not found!\")\n"
      ],
      "metadata": {
        "id": "-sZUz_Zr1lXe"
      },
      "execution_count": null,
      "outputs": []
    },
    {
      "cell_type": "markdown",
      "source": [
        "-FileNotFoundError is used when the file doesn’t exist."
      ],
      "metadata": {
        "id": "xd2hOc7N1mc9"
      }
    },
    {
      "cell_type": "markdown",
      "source": [
        "---\n",
        "4.Write a Python script that reads from one file and writes its content to another file?"
      ],
      "metadata": {
        "id": "-y5VVOJI1oom"
      }
    },
    {
      "cell_type": "code",
      "source": [
        "with open(\"source.txt\", \"r\") as src:\n",
        "    with open(\"destination.txt\", \"w\") as dest:\n",
        "        dest.write(src.read())\n"
      ],
      "metadata": {
        "id": "WTfNmrW31wje"
      },
      "execution_count": null,
      "outputs": []
    },
    {
      "cell_type": "markdown",
      "source": [
        "-Reads from one file and writes to another."
      ],
      "metadata": {
        "id": "TwNIJLl-1xPf"
      }
    },
    {
      "cell_type": "markdown",
      "source": [
        "---\n",
        "5.How would you catch and handle division by zero error in Python?\n"
      ],
      "metadata": {
        "id": "X61qXY-I1zrQ"
      }
    },
    {
      "cell_type": "code",
      "source": [
        "try:\n",
        "    result = 10 / 0\n",
        "except ZeroDivisionError:\n",
        "    print(\"You can’t divide by zero!\")\n"
      ],
      "metadata": {
        "id": "2L3h9Wpd17UZ"
      },
      "execution_count": null,
      "outputs": []
    },
    {
      "cell_type": "markdown",
      "source": [
        "---\n",
        "6.Write a Python program that logs an error message to a log file when a division by zero exception occurs?"
      ],
      "metadata": {
        "id": "ATFQfPIj18Ov"
      }
    },
    {
      "cell_type": "code",
      "source": [
        "import logging\n",
        "\n",
        "logging.basicConfig(filename=\"error.log\", level=logging.ERROR)\n",
        "\n",
        "try:\n",
        "    result = 10 / 0\n",
        "except ZeroDivisionError as e:\n",
        "    logging.error(f\"Division error occurred: {e}\")\n"
      ],
      "metadata": {
        "id": "2s_5EkM82B_K"
      },
      "execution_count": null,
      "outputs": []
    },
    {
      "cell_type": "markdown",
      "source": [
        "---\n",
        "7.How do you log information at different levels (INFO, ERROR, WARNING) in Python using the logging module?\n"
      ],
      "metadata": {
        "id": "2jHiA3MX2DXa"
      }
    },
    {
      "cell_type": "code",
      "source": [
        "import logging\n",
        "\n",
        "logging.basicConfig(level=logging.DEBUG)\n",
        "\n",
        "logging.info(\"This is an info message\")\n",
        "logging.warning(\"This is a warning\")\n",
        "logging.error(\"This is an error\")\n"
      ],
      "metadata": {
        "colab": {
          "base_uri": "https://localhost:8080/"
        },
        "id": "Oecsg8xV2KPj",
        "outputId": "e89a08ed-a6d1-4261-d915-2553e851867f"
      },
      "execution_count": 4,
      "outputs": [
        {
          "output_type": "stream",
          "name": "stderr",
          "text": [
            "WARNING:root:This is a warning\n",
            "ERROR:root:This is an error\n"
          ]
        }
      ]
    },
    {
      "cell_type": "markdown",
      "source": [
        "---\n",
        "8.Write a program to handle a file opening error using exception handling?\n"
      ],
      "metadata": {
        "id": "-3HFqWpO2Pob"
      }
    },
    {
      "cell_type": "code",
      "source": [
        "try:\n",
        "    file = open(\"data.txt\", \"r\")\n",
        "except FileNotFoundError:\n",
        "    print(\"The file cannot be opened because it does not exist.\")\n"
      ],
      "metadata": {
        "id": "ZdOtB7Gf2Z5_"
      },
      "execution_count": null,
      "outputs": []
    },
    {
      "cell_type": "markdown",
      "source": [
        "---\n",
        "9.How can you read a file line by line and store its content in a list in Python?\n"
      ],
      "metadata": {
        "id": "bJIIdRFJ2a_E"
      }
    },
    {
      "cell_type": "code",
      "source": [
        "with open(\"data.txt\", \"r\") as file:\n",
        "    lines = file.readlines()\n",
        "print(lines)\n"
      ],
      "metadata": {
        "id": "jNVg0O6k2fvm"
      },
      "execution_count": null,
      "outputs": []
    },
    {
      "cell_type": "markdown",
      "source": [
        "---\n",
        "10.How can you append data to an existing file in Python?\n"
      ],
      "metadata": {
        "id": "EGMjuu8H2iGd"
      }
    },
    {
      "cell_type": "code",
      "source": [
        "with open(\"data.txt\", \"a\") as file:\n",
        "    file.write(\"\\nNew line of data\")\n"
      ],
      "metadata": {
        "id": "OjmrlNVB2shv"
      },
      "execution_count": null,
      "outputs": []
    },
    {
      "cell_type": "markdown",
      "source": [
        "-\"a\" means append mode (adds to the end of the file)."
      ],
      "metadata": {
        "id": "XQzlV7R4236A"
      }
    },
    {
      "cell_type": "markdown",
      "source": [
        "---\n",
        "11.Write a Python program that uses a try-except block to handle an error when attempting to access a dictionary key that doesn't exist."
      ],
      "metadata": {
        "id": "GDo_bRBC2tcP"
      }
    },
    {
      "cell_type": "code",
      "source": [
        "try:\n",
        "    my_dict = {\"name\": \"Alice\"}\n",
        "    print(my_dict[\"age\"])\n",
        "except KeyError:\n",
        "    print(\"That key doesn't exist in the dictionary.\")\n"
      ],
      "metadata": {
        "id": "jMqs-eTg26VB"
      },
      "execution_count": null,
      "outputs": []
    },
    {
      "cell_type": "markdown",
      "source": [
        "---\n",
        "12.Write a program that demonstrates using multiple except blocks to handle different types of exceptions.\n"
      ],
      "metadata": {
        "id": "Jr_WQuh32-Py"
      }
    },
    {
      "cell_type": "code",
      "source": [
        "try:\n",
        "    result = 10 / 0\n",
        "    print(my_dict[\"age\"])\n",
        "except ZeroDivisionError:\n",
        "    print(\"Math error!\")\n",
        "except KeyError:\n",
        "    print(\"Missing dictionary key!\")\n"
      ],
      "metadata": {
        "id": "MGdZtax43Fa0"
      },
      "execution_count": null,
      "outputs": []
    },
    {
      "cell_type": "markdown",
      "source": [
        "---\n",
        "13.How would you check if a file exists before attempting to read it in Python?\n"
      ],
      "metadata": {
        "id": "O4Xz3Mkg3GVD"
      }
    },
    {
      "cell_type": "code",
      "source": [
        "import os\n",
        "\n",
        "if os.path.exists(\"file.txt\"):\n",
        "    with open(\"file.txt\", \"r\") as file:\n",
        "        print(file.read())\n",
        "else:\n",
        "    print(\"File not found.\")\n"
      ],
      "metadata": {
        "id": "adFSkezz3LMW"
      },
      "execution_count": null,
      "outputs": []
    },
    {
      "cell_type": "markdown",
      "source": [
        "---\n",
        "14.Write a program that uses the logging module to log both informational and error messages?\n"
      ],
      "metadata": {
        "id": "DM-z9xcq3Ncs"
      }
    },
    {
      "cell_type": "code",
      "source": [
        "import logging\n",
        "\n",
        "logging.basicConfig(filename=\"activity.log\", level=logging.INFO)\n",
        "\n",
        "logging.info(\"Program started\")\n",
        "try:\n",
        "    result = 1 / 0\n",
        "except ZeroDivisionError:\n",
        "    logging.error(\"Tried dividing by zero.\")\n"
      ],
      "metadata": {
        "id": "3hWY9f1E3RVU"
      },
      "execution_count": null,
      "outputs": []
    },
    {
      "cell_type": "markdown",
      "source": [
        "---\n",
        "15.Write a Python program that prints the content of a file and handles the case when the file is empty?\n"
      ],
      "metadata": {
        "id": "V6u1Hwn83Tnd"
      }
    },
    {
      "cell_type": "code",
      "source": [
        "with open(\"file.txt\", \"r\") as file:\n",
        "    content = file.read()\n",
        "    if content:\n",
        "        print(content)\n",
        "    else:\n",
        "        print(\"The file is empty.\")\n"
      ],
      "metadata": {
        "id": "FBcuhXO53YB-"
      },
      "execution_count": null,
      "outputs": []
    },
    {
      "cell_type": "markdown",
      "source": [
        "---\n",
        "16.Demonstrate how to use memory profiling to check the memory usage of a small program?\n",
        "\n",
        "-Install memory profiler first:\n"
      ],
      "metadata": {
        "id": "_GKDpEAc3Z8A"
      }
    },
    {
      "cell_type": "code",
      "source": [
        "pip install memory-profiler\n"
      ],
      "metadata": {
        "id": "K-KtKcTf3el4"
      },
      "execution_count": null,
      "outputs": []
    },
    {
      "cell_type": "markdown",
      "source": [
        "-Then in your Python file:"
      ],
      "metadata": {
        "id": "-QyUBuoy3nxg"
      }
    },
    {
      "cell_type": "code",
      "source": [
        "from memory_profiler import profile\n",
        "\n",
        "@profile\n",
        "def example():\n",
        "    data = [i for i in range(100000)]\n",
        "    return sum(data)\n",
        "\n",
        "example()\n"
      ],
      "metadata": {
        "collapsed": true,
        "id": "R_w1lUUa3oq4"
      },
      "execution_count": null,
      "outputs": []
    },
    {
      "cell_type": "markdown",
      "source": [
        "---\n",
        "17.Write a Python program to create and write a list of numbers to a file, one number per line?\n",
        "\n"
      ],
      "metadata": {
        "id": "6XruLtuq30iB"
      }
    },
    {
      "cell_type": "code",
      "source": [
        "numbers = [1, 2, 3, 4, 5]\n",
        "with open(\"numbers.txt\", \"w\") as file:\n",
        "    for number in numbers:\n",
        "        file.write(str(number) + \"\\n\")\n"
      ],
      "metadata": {
        "id": "5jlXZkGd36QC"
      },
      "execution_count": null,
      "outputs": []
    },
    {
      "cell_type": "markdown",
      "source": [
        "---\n",
        "18.How would you implement a basic logging setup that logs to a file with rotation after 1MB?"
      ],
      "metadata": {
        "id": "ZlO6SThE37da"
      }
    },
    {
      "cell_type": "code",
      "source": [
        "import logging\n",
        "from logging.handlers import RotatingFileHandler\n",
        "\n",
        "handler = RotatingFileHandler(\"app.log\", maxBytes=1024*1024, backupCount=2)\n",
        "logging.basicConfig(handlers=[handler], level=logging.INFO)\n",
        "\n",
        "logging.info(\"This is a log message.\")\n"
      ],
      "metadata": {
        "id": "pKd-83co4Atj"
      },
      "execution_count": null,
      "outputs": []
    },
    {
      "cell_type": "markdown",
      "source": [
        "---\n",
        "19.Write a program that handles both IndexError and KeyError using a try-except block.\n"
      ],
      "metadata": {
        "id": "NaH14h7i4BqL"
      }
    },
    {
      "cell_type": "code",
      "source": [
        "try:\n",
        "    lst = [1, 2, 3]\n",
        "    print(lst[5])\n",
        "    my_dict = {\"a\": 1}\n",
        "    print(my_dict[\"b\"])\n",
        "except IndexError:\n",
        "    print(\"List index out of range.\")\n",
        "except KeyError:\n",
        "    print(\"Dictionary key not found.\")\n"
      ],
      "metadata": {
        "id": "FSXXz9qi4G5_"
      },
      "execution_count": null,
      "outputs": []
    },
    {
      "cell_type": "markdown",
      "source": [
        "---\n",
        "\n",
        "20.How would you open a file and read its contents using a context manager in Python?\n"
      ],
      "metadata": {
        "id": "NHA4BzZ04JaE"
      }
    },
    {
      "cell_type": "code",
      "source": [
        "with open(\"file.txt\", \"r\") as file:\n",
        "    content = file.read()\n",
        "    print(content)\n"
      ],
      "metadata": {
        "id": "IH5xftZF4QDG"
      },
      "execution_count": null,
      "outputs": []
    },
    {
      "cell_type": "markdown",
      "source": [
        "---\n",
        "\n",
        "21.Write a Python program that reads a file and prints the number of occurrences of a specific word.\n"
      ],
      "metadata": {
        "id": "IMYDeFxg4RC9"
      }
    },
    {
      "cell_type": "code",
      "source": [
        "word_to_count = \"python\"\n",
        "with open(\"file.txt\", \"r\") as file:\n",
        "    content = file.read().lower()\n",
        "    count = content.count(word_to_count.lower())\n",
        "    print(f\"The word '{word_to_count}' appears {count} times.\")\n"
      ],
      "metadata": {
        "id": "RCGj7ugN4Vlu"
      },
      "execution_count": null,
      "outputs": []
    },
    {
      "cell_type": "markdown",
      "source": [
        "---\n",
        "22.How can you check if a file is empty before attempting to read its contents?\n"
      ],
      "metadata": {
        "id": "L4gpvOPA4X51"
      }
    },
    {
      "cell_type": "code",
      "source": [
        "import os\n",
        "\n",
        "if os.path.getsize(\"file.txt\") == 0:\n",
        "    print(\"File is empty.\")\n",
        "else:\n",
        "    with open(\"file.txt\", \"r\") as file:\n",
        "        print(file.read())\n"
      ],
      "metadata": {
        "id": "7ZXOwqCZ4clf"
      },
      "execution_count": null,
      "outputs": []
    },
    {
      "cell_type": "markdown",
      "source": [
        "23.Write a Python program that writes to a log file when an error occurs during file handling.\n"
      ],
      "metadata": {
        "id": "jZl_AtMH4efW"
      }
    },
    {
      "cell_type": "code",
      "source": [
        "import logging\n",
        "\n",
        "logging.basicConfig(filename=\"file_errors.log\", level=logging.ERROR)\n",
        "\n",
        "try:\n",
        "    with open(\"nonexistent.txt\", \"r\") as file:\n",
        "        data = file.read()\n",
        "except FileNotFoundError as e:\n",
        "    logging.error(f\"File handling error: {e}\")\n"
      ],
      "metadata": {
        "colab": {
          "base_uri": "https://localhost:8080/"
        },
        "id": "snbIGVkw4mVy",
        "outputId": "10d314c1-2780-47a7-ea29-beab15d20d84"
      },
      "execution_count": 6,
      "outputs": [
        {
          "output_type": "stream",
          "name": "stderr",
          "text": [
            "ERROR:root:File handling error: [Errno 2] No such file or directory: 'nonexistent.txt'\n"
          ]
        }
      ]
    }
  ]
}